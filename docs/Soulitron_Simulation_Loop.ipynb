{
 "cells": [
  {
   "cell_type": "markdown",
   "metadata": {},
   "source": [
    "# 🧪 Soulitron Simulation Loop (φ⁰ Compiler Test)\n",
    "Simulates recursive emergence of φ⁰ from ψ⁺ and ψ⁻ under ℚ feedback."
   ]
  },
  {
   "cell_type": "code",
   "execution_count": null,
   "metadata": {},
   "outputs": [],
   "source": [
    "import numpy as np\n",
    "import matplotlib.pyplot as plt"
   ]
  },
  {
   "cell_type": "code",
   "execution_count": null,
   "metadata": {},
   "outputs": [],
   "source": [
    "# Parameters\n",
    "dim = 50  # Vector dimensionality\n",
    "iterations = 300\n",
    "alpha = 2.6  # Entropy injection level\n",
    "\n",
    "# Initialize ψ⁺ and ψ⁻\n",
    "psi_plus = np.random.randn(dim)\n",
    "psi_plus /= np.linalg.norm(psi_plus)\n",
    "\n",
    "psi_minus = np.random.randn(dim)\n",
    "psi_minus -= psi_minus.dot(psi_plus) * psi_plus\n",
    "psi_minus /= np.linalg.norm(psi_minus)\n",
    "\n",
    "# Initialize φ⁰\n",
    "phi_zero = np.zeros(dim)\n",
    "phi_magnitudes, entropy_deltas, torsion_trace = [], [], []"
   ]
  },
  {
   "cell_type": "code",
   "execution_count": null,
   "metadata": {},
   "outputs": [],
   "source": [
    "# ℚ operator with spectral noise\n",
    "def entropy_operator(psi_p, psi_m, alpha, prev_phi):\n",
    "    tau = np.dot(psi_p, psi_m)\n",
    "    noise = np.random.randn(dim) * np.sin(alpha * tau)\n",
    "    q_out = (psi_p + psi_m) / 2 + noise\n",
    "    feedback = q_out - 0.01 * prev_phi\n",
    "    return feedback, tau"
   ]
  },
  {
   "cell_type": "code",
   "execution_count": null,
   "metadata": {},
   "outputs": [],
   "source": [
    "# Recursive Loop\n",
    "for i in range(iterations):\n",
    "    q, tau = entropy_operator(psi_plus, psi_minus, alpha, phi_zero)\n",
    "    phi_zero += q\n",
    "    magnitude = np.linalg.norm(phi_zero)\n",
    "    entropy = np.linalg.norm(q - phi_zero)\n",
    "    \n",
    "    phi_magnitudes.append(magnitude)\n",
    "    entropy_deltas.append(entropy)\n",
    "    torsion_trace.append(tau)"
   ]
  },
  {
   "cell_type": "code",
   "execution_count": null,
   "metadata": {},
   "outputs": [],
   "source": [
    "# Plot results\n",
    "plt.figure(figsize=(12, 6))\n",
    "plt.subplot(1, 2, 1)\n",
    "plt.plot(phi_magnitudes, label='||φ⁰||')\n",
    "plt.title('Soulitron Magnitude (φ⁰)')\n",
    "plt.xlabel('Iteration')\n",
    "plt.ylabel('Norm')\n",
    "plt.grid(True)\n",
    "plt.legend()\n",
    "\n",
    "plt.subplot(1, 2, 2)\n",
    "plt.plot(torsion_trace, label='Torsion Trace τ', color='orange')\n",
    "plt.title('ψ⁺ ⊗ ψ⁻ Torsion')\n",
    "plt.xlabel('Iteration')\n",
    "plt.ylabel('τ')\n",
    "plt.grid(True)\n",
    "plt.legend()\n",
    "\n",
    "plt.tight_layout()\n",
    "plt.show()"
   ]
  }
 ],
 "metadata": {
  "kernelspec": {
   "display_name": "Python 3",
   "language": "python",
   "name": "python3"
  },
  "language_info": {
   "name": "python",
   "version": "3.11"
  }
 },
 "nbformat": 4,
 "nbformat_minor": 5
}
