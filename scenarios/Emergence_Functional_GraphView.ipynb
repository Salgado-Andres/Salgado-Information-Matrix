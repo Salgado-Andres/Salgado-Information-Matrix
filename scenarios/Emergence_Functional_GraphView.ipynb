{
 "cells": [
  {
   "cell_type": "markdown",
   "id": "96082d1c",
   "metadata": {},
   "source": [
    "# 🧬 Emergence Functional Analysis\n",
    "This notebook explores variations of the unified emergence functional by simulating ψ(t) in ℝ³ and projecting into ℝ²."
   ]
  },
  {
   "cell_type": "markdown",
   "id": "26d453ec",
   "metadata": {},
   "source": [
    "### Simulation Setup (click to collapse)\n",
    "We simulate a time-dependent field ψ(t) in ℝ³ and project it into a 2D plane to compare structural and dynamic covariance.\n",
    "\n",
    "- **Spectral term**: Eigenvalue spread of covariance matrices\n",
    "- **Dynamic term**: Normed temporal derivative of projected φ"
   ]
  },
  {
   "cell_type": "code",
   "execution_count": null,
   "id": "e2b5cd33",
   "metadata": {},
   "outputs": [],
   "source": [
    "\n",
    "import numpy as np\n",
    "import pandas as pd\n",
    "import matplotlib.pyplot as plt\n",
    "\n",
    "# Simulate a simple ψ (3D) and φ (2D) projection\n",
    "t = np.linspace(0, 1, 100)\n",
    "psi = np.array([np.sin(t), np.cos(t), t**2]).T  # 3D ψ field\n",
    "phi = psi[:, :2]  # 2D projection\n",
    "\n",
    "# Unified Emergence Functional definition\n",
    "def emergence_functional(psi, phi, alpha=0.1, dt=0.01):\n",
    "    # Spectral term (covariance eigenvalue difference)\n",
    "    C_psi = np.cov(psi.T)\n",
    "    C_phi = np.cov(phi.T)\n",
    "    spectral_term = np.max(np.linalg.eigvals(C_psi)) - np.min(np.linalg.eigvals(C_phi))\n",
    "    \n",
    "    # Dynamic term (temporal evolution of φ norm)\n",
    "    phi_norm = np.linalg.norm(phi, axis=1)\n",
    "    d_phi_dt = np.gradient(phi_norm, dt)\n",
    "    dynamic_term = alpha * np.mean(d_phi_dt**2)\n",
    "    \n",
    "    return spectral_term + dynamic_term\n"
   ]
  },
  {
   "cell_type": "markdown",
   "id": "9b725817",
   "metadata": {},
   "source": [
    "### ▶ Example 1: Constant Flat Emergence (click to collapse)\n",
    "Using default alpha values on a simple ψ(t) = [sin(t), cos(t), t²], we compute the functional over a small range.\n",
    "\n",
    "![Flat Result Output](flat_state_output.png)"
   ]
  },
  {
   "cell_type": "markdown",
   "id": "91c9f06a",
   "metadata": {},
   "source": [
    "### ▶ Example 1b: Diagonal State Projection (click to collapse)\n",
    "In this variation, ψ(t) evolves linearly across all three dimensions, producing a diagonal projection in φ(t). This models uniform emergence—neither static nor chaotic.\n",
    "\n",
    "![Diagonal State Output](diagonal_state_output.png)"
   ]
  },
  {
   "cell_type": "markdown",
   "id": "a3342a13",
   "metadata": {},
   "source": [
    "### ▶ Example 2: Exponential and Log Emergence with Grok Events 🔴\n",
    "Visualizing functional growth under two nonlinear α-weighting modes.\n",
    "\n",
    "![Grok Events Output](grok_event_output.png)"
   ]
  }
 ],
 "metadata": {},
 "nbformat": 4,
 "nbformat_minor": 5
}
