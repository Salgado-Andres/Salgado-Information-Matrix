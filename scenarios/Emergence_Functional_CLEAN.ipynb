{
 "cells": [
  {
   "cell_type": "markdown",
   "id": "db4f45b4",
   "metadata": {},
   "source": [
    "# 🧠 Unified Emergence Functional Analysis\n",
    "\n",
    "This notebook explores the behavior of a proposed **Unified Emergence Functional** across various values of the dynamic weighting parameter \\( \\alpha \\).\n",
    "\n",
    "We simulate different formulations of \\( \\psi(t) \\) to understand emergent behavior, contrasting structural vs dynamic covariance.\n",
    "\n",
    "- **Spectral term**: Covariance eigenvalue spread  \n",
    "- **Dynamic term**: Temporal evolution of projected \\( \\psi \\)  \n",
    "- **Grok Events** 🔴: Highlights of nonlinear surges in emergent structure.\n"
   ]
  },
  {
   "cell_type": "markdown",
   "id": "aa059eda",
   "metadata": {},
   "source": [
    "## 🔷 Simulation Setup (click to collapse)\n",
    "\n",
    "We simulate a time-dependent field \\( \\psi(t) \\in \\mathbb{R}^3 \\) and project it into a 2D plane to compare structural and dynamic covariance.\n",
    "\n",
    "- **Spectral term**: Eigenvalue spread of covariance matrices  \n",
    "- **Dynamic term**: Normed temporal derivative of projected \\( \\psi \\)\n"
   ]
  },
  {
   "cell_type": "code",
   "execution_count": null,
   "id": "ba4e0d04",
   "metadata": {},
   "outputs": [],
   "source": [
    "import numpy as np\n",
    "import pandas as pd\n",
    "import matplotlib.pyplot as plt\n",
    "\n",
    "# Simulate a simple ψ (3D) and φ (2D) projection\n",
    "t = np.linspace(0, 1, 100)\n",
    "psi = np.array([np.sin(t), np.cos(t), t**2]).T  # 3D ψ field\n",
    "phi = psi[:, :2]  # 2D projection\n",
    "\n",
    "# Unified Emergence Functional definition\n",
    "def emergence_functional(psi, phi, alpha=0.1, dt=0.01):\n",
    "    # Spectral term (covariance eigenvalue difference)\n",
    "    C_psi = np.cov(psi.T)\n",
    "    C_phi = np.cov(phi.T)\n",
    "    spectral_term = np.max(np.linalg.eigvals(C_psi)) - np.min(np.linalg.eigvals(C_phi))\n",
    "    \n",
    "    # Dynamic term (temporal evolution of φ norm)\n",
    "    phi_norm = np.linalg.norm(phi, axis=1)\n",
    "    d_phi_dt = np.gradient(phi_norm, dt)\n",
    "    dynamic_term = alpha * np.mean(d_phi_dt**2)\n",
    "    \n",
    "    return spectral_term + dynamic_term\n"
   ]
  },
  {
   "cell_type": "markdown",
   "id": "98fe5080",
   "metadata": {},
   "source": [
    "### ▶ Example 1: Constant Flat Emergence\n",
    "\n",
    "Using default alpha values on a simple \\( \\psi(t) = [\\sin(t), \\cos(t), t^2] \\), we compute the functional over a small range.\n"
   ]
  },
  {
   "cell_type": "code",
   "execution_count": null,
   "id": "677206ef",
   "metadata": {},
   "outputs": [],
   "source": [
    "alphas = [0.01, 0.1, 1.0]\n",
    "results = [(alpha, emergence_functional(psi, phi, alpha)) for alpha in alphas]\n",
    "df = pd.DataFrame(results, columns=[\"Alpha\", \"Emergence Functional\"])\n",
    "df.plot(x=\"Alpha\", y=\"Emergence Functional\", title=\"Flat Result\")\n",
    "plt.grid(True)\n",
    "plt.show()\n"
   ]
  },
  {
   "cell_type": "markdown",
   "id": "848be655",
   "metadata": {},
   "source": [
    "![Example 1 Output](flat_state_output.png)"
   ]
  },
  {
   "cell_type": "markdown",
   "id": "11273256",
   "metadata": {},
   "source": [
    "### ▶ Example 2: Exponential and Log Emergence with Grok Events 🔴\n",
    "\n",
    "Visualizing functional growth under two nonlinear \\( \\alpha \\)-weighting modes.\n"
   ]
  },
  {
   "cell_type": "code",
   "execution_count": null,
   "id": "3fdb07ec",
   "metadata": {},
   "outputs": [],
   "source": [
    "alphas = np.linspace(0, 2, 40)\n",
    "log_results = [(a, emergence_functional(psi, phi, alpha=np.log1p(a))) for a in alphas]\n",
    "exp_results = [(a, emergence_functional(psi, phi, alpha=np.exp(a/3)-1)) for a in alphas]\n",
    "\n",
    "df_log = pd.DataFrame(log_results, columns=[\"Alpha\", \"Emergence\"])\n",
    "df_exp = pd.DataFrame(exp_results, columns=[\"Alpha\", \"Emergence\"])\n",
    "\n",
    "plt.plot(df_log[\"Alpha\"], df_log[\"Emergence\"], label=\"log1p mode\", marker='o')\n",
    "plt.plot(df_exp[\"Alpha\"], df_exp[\"Emergence\"], label=\"exp mode\", linestyle='--', marker='x')\n",
    "\n",
    "# Grok Events\n",
    "grok_threshold = 1.5\n",
    "grok_mask = df_exp[\"Emergence\"] > grok_threshold\n",
    "plt.scatter(df_exp[\"Alpha\"][grok_mask], df_exp[\"Emergence\"][grok_mask], color=\"red\", label=\"🔴 Grok Event\")\n",
    "\n",
    "plt.title(\"Emergence Functional vs Alpha (with Grok Events)\")\n",
    "plt.xlabel(\"Alpha (dynamic weight)\")\n",
    "plt.ylabel(\"Emergence Functional Value\")\n",
    "plt.legend()\n",
    "plt.grid(True)\n",
    "plt.show()\n"
   ]
  },
  {
   "cell_type": "markdown",
   "id": "94b66bdb",
   "metadata": {},
   "source": [
    "![Example 2 Output](grok_event_output.png)"
   ]
  }
 ],
 "metadata": {},
 "nbformat": 4,
 "nbformat_minor": 5
}
