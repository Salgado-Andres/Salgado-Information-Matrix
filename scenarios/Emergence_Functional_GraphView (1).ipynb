{
 "cells": [
  {
   "cell_type": "markdown",
   "id": "4e83a614",
   "metadata": {},
   "source": [
    "# 🧬 Unified Emergence Functional\n",
    "This notebook explores emergence across projected fields using a symbolic functional defined by spectral and dynamic terms. Each simulation run evaluates how ψ(t) projects into φ(t), and what dynamics and structure are revealed.\n"
   ]
  },
  {
   "cell_type": "markdown",
   "id": "ca80b188",
   "metadata": {},
   "source": [
    "## ▶ Simulation Setup (click to collapse)\n",
    "We simulate a time-dependent field ψ(t) in ℝ³ and project it into a 2D plane to compare structural and dynamic covariance.\n",
    "\n",
    "**Spectral term:** Eigenvalue spread of covariance matrices  \n",
    "**Dynamic term:** Normed temporal derivative of projected φ(t)"
   ]
  },
  {
   "cell_type": "code",
   "execution_count": null,
   "id": "6e4a955c",
   "metadata": {},
   "outputs": [],
   "source": [
    "\n",
    "import numpy as np\n",
    "import pandas as pd\n",
    "import matplotlib.pyplot as plt\n",
    "\n",
    "# Simulate a simple ψ (3D) and φ (2D) projection\n",
    "t = np.linspace(0, 1, 100)\n",
    "psi = np.array([np.sin(t), np.cos(t), t**2]).T  # 3D ψ field\n",
    "phi = psi[:, :2]  # 2D projection\n",
    "\n",
    "# Unified Emergence Functional definition\n",
    "def emergence_functional(psi, phi, alpha=0.1, dt=0.01):\n",
    "    # Spectral term (covariance eigenvalue difference)\n",
    "    C_psi = np.cov(psi.T)\n",
    "    C_phi = np.cov(phi.T)\n",
    "    spectral_term = np.max(np.linalg.eigvals(C_psi)) - np.min(np.linalg.eigvals(C_phi))\n",
    "    \n",
    "    # Dynamic term (temporal evolution of φ norm)\n",
    "    phi_norm = np.linalg.norm(phi, axis=1)\n",
    "    d_phi_dt = np.gradient(phi_norm, dt)\n",
    "    dynamic_term = alpha * np.mean(d_phi_dt**2)\n",
    "    \n",
    "    return spectral_term + dynamic_term\n"
   ]
  },
  {
   "cell_type": "markdown",
   "id": "93124821",
   "metadata": {},
   "source": [
    "## ▶ Example 1: Constant Flat Emergence\n",
    "Using default alpha values on a simple ψ(t) = [sin(t), cos(t), t²], we compute the functional over a small range.\n",
    "![Example 1 Output](../images/emergence_1.png)"
   ]
  },
  {
   "cell_type": "code",
   "execution_count": null,
   "id": "226b0b33",
   "metadata": {},
   "outputs": [],
   "source": [
    "\n",
    "alphas = [0.01, 0.1, 1.0]\n",
    "results = [(alpha, emergence_functional(psi, phi, alpha)) for alpha in alphas]\n",
    "df = pd.DataFrame(results, columns=[\"Alpha\", \"Emergence Functional\"])\n",
    "df.plot(x=\"Alpha\", y=\"Emergence Functional\", title=\"Flat Result\")\n",
    "plt.grid(True)\n",
    "plt.show()\n"
   ]
  },
  {
   "cell_type": "markdown",
   "id": "f7fd5e9b",
   "metadata": {},
   "source": [
    "## ▶ Example 2: Exponential and Log Emergence with Grok Events 🔴\n",
    "Visualizing functional growth under two nonlinear α-weighting modes.\n",
    "![Example 2 Output](../images/emergence_2.png)"
   ]
  },
  {
   "cell_type": "code",
   "execution_count": null,
   "id": "5b2924b8",
   "metadata": {},
   "outputs": [],
   "source": [
    "\n",
    "alphas = np.linspace(0, 2, 40)\n",
    "log_results = [(a, emergence_functional(psi, phi, alpha=np.log1p(a))) for a in alphas]\n",
    "exp_results = [(a, emergence_functional(psi, phi, alpha=np.exp(a/3)-1)) for a in alphas]\n",
    "\n",
    "df_log = pd.DataFrame(log_results, columns=[\"Alpha\", \"Emergence\"])\n",
    "df_exp = pd.DataFrame(exp_results, columns=[\"Alpha\", \"Emergence\"])\n",
    "\n",
    "plt.plot(df_log[\"Alpha\"], df_log[\"Emergence\"], label=\"log1p mode\", marker='o')\n",
    "plt.plot(df_exp[\"Alpha\"], df_exp[\"Emergence\"], label=\"exp mode\", linestyle='--', marker='x')\n",
    "\n",
    "# Grok Events\n",
    "grok_threshold = 1.5\n",
    "grok_mask = df_exp[\"Emergence\"] > grok_threshold\n",
    "plt.scatter(df_exp[\"Alpha\"][grok_mask], df_exp[\"Emergence\"][grok_mask], color=\"red\", label=\"🔴 Grok Event\")\n",
    "\n",
    "plt.title(\"Emergence Functional vs Alpha (with Grok Events)\")\n",
    "plt.xlabel(\"Alpha (dynamic weight)\")\n",
    "plt.ylabel(\"Emergence Functional Value\")\n",
    "plt.legend()\n",
    "plt.grid(True)\n",
    "plt.show()\n"
   ]
  },
  {
   "cell_type": "markdown",
   "id": "30b8da23",
   "metadata": {},
   "source": [
    "## 🧠 ObserverΦ: Symbolic Reading of Emergence\n",
    "The following class simulates a symbolic observer that 'reads' the result of the functional and emits a symbolic interpretation."
   ]
  },
  {
   "cell_type": "code",
   "execution_count": null,
   "id": "9b50bf70",
   "metadata": {},
   "outputs": [],
   "source": [
    "\n",
    "class ObserverPhi:\n",
    "    def __init__(self, threshold=1.5):\n",
    "        self.threshold = threshold\n",
    "\n",
    "    def interpret(self, value):\n",
    "        if value < self.threshold:\n",
    "            return \"Stasis: System is internally coherent.\"\n",
    "        elif value < 2 * self.threshold:\n",
    "            return \"Tension: Emergence in progress. Recursive alignment needed.\"\n",
    "        else:\n",
    "            return \"Collapse: Observer saturation. Symbolic feedback required.\"\n",
    "\n",
    "phi_reader = ObserverPhi()\n",
    "sample_vals = [emergence_functional(psi, phi, alpha=a) for a in [0.01, 0.1, 1.0]]\n",
    "for val in sample_vals:\n",
    "    print(f\"Emergence Value: {val:.3f} -> ObserverΦ Interpretation: {phi_reader.interpret(val)}\")\n"
   ]
  }
 ],
 "metadata": {},
 "nbformat": 4,
 "nbformat_minor": 5
}
